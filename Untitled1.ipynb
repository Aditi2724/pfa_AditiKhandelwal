{
 "cells": [
  {
   "cell_type": "code",
   "execution_count": 7,
   "id": "7ae1c194",
   "metadata": {},
   "outputs": [
    {
     "name": "stdout",
     "output_type": "stream",
     "text": [
      "0.8475\n"
     ]
    }
   ],
   "source": [
    "#find\n",
    "text=\"X-DSPAM-Confidence: 0.8475\"\n",
    "ab=text.find('0.8475')\n",
    "number=text[ab:]\n",
    "print(float(number))\n",
    "\n"
   ]
  },
  {
   "cell_type": "code",
   "execution_count": 9,
   "id": "06e9ca95",
   "metadata": {},
   "outputs": [
    {
     "name": "stdout",
     "output_type": "stream",
     "text": [
      "[1, 24, 76]\n",
      "['red', 'yellow', 'blue']\n",
      "[1, [5, 6], 7]\n",
      "[]\n"
     ]
    }
   ],
   "source": [
    "#Lists & Strings\n",
    "print([1,24,76])\n",
    "print(['red','yellow','blue'])\n",
    "print([1,[5,6],7])\n",
    "print([])\n"
   ]
  },
  {
   "cell_type": "code",
   "execution_count": 17,
   "id": "bac7c3c7",
   "metadata": {},
   "outputs": [
    {
     "name": "stdout",
     "output_type": "stream",
     "text": [
      "['12', '35', '9', '56', '24']\n",
      "[24, '35', '9', '56', 12]\n"
     ]
    }
   ],
   "source": [
    "#Practice Question\n",
    "x=[]               #Creating empty list\n",
    "x.append('12')     #Appending the list\n",
    "x.append('35')\n",
    "x.append('9')\n",
    "x.append('56')\n",
    "x.append('24')\n",
    "print(x)           #list created\n",
    "x[0]=24            #Replacing \n",
    "x[4]=12\n",
    "print(x)\n",
    "\n"
   ]
  },
  {
   "cell_type": "code",
   "execution_count": 15,
   "id": "81a5930a",
   "metadata": {},
   "outputs": [
    {
     "name": "stdout",
     "output_type": "stream",
     "text": [
      "5\n"
     ]
    }
   ],
   "source": [
    "#2nd Questions\n",
    "list=[1,4,5,7,8]\n",
    "x=len(list)\n",
    "print(x)"
   ]
  },
  {
   "cell_type": "code",
   "execution_count": 16,
   "id": "1f6a738f",
   "metadata": {},
   "outputs": [
    {
     "name": "stdout",
     "output_type": "stream",
     "text": [
      "['Geeks', 'Are', 'For', 'Geeks']\n",
      "length of list is 4\n"
     ]
    }
   ],
   "source": [
    "#3rd Questions\n",
    "y=[]                 #Creating an empty list\n",
    "y.append(\"Geeks\")    #Appneding \n",
    "y.append(\"Are\")\n",
    "y.append(\"For\")\n",
    "y.append(\"Geeks\")\n",
    "print(y)\n",
    "print(\"length of list is\", len(y))"
   ]
  },
  {
   "cell_type": "code",
   "execution_count": 19,
   "id": "33ed07f4",
   "metadata": {},
   "outputs": [
    {
     "name": "stdout",
     "output_type": "stream",
     "text": [
      "[4]\n",
      "[-4]\n"
     ]
    }
   ],
   "source": [
    "#4th Question\n",
    "a=[2]\n",
    "b=[4]\n",
    "print(max(a,b))    #Finding the maximum number\n",
    "a=[-1]\n",
    "b=[-4]\n",
    "print(min(a,b))    #Finding the minimum number\n",
    "\n"
   ]
  },
  {
   "cell_type": "code",
   "execution_count": null,
   "id": "bbd00d3c",
   "metadata": {},
   "outputs": [],
   "source": []
  }
 ],
 "metadata": {
  "kernelspec": {
   "display_name": "Python 3",
   "language": "python",
   "name": "python3"
  },
  "language_info": {
   "codemirror_mode": {
    "name": "ipython",
    "version": 3
   },
   "file_extension": ".py",
   "mimetype": "text/x-python",
   "name": "python",
   "nbconvert_exporter": "python",
   "pygments_lexer": "ipython3",
   "version": "3.8.8"
  }
 },
 "nbformat": 4,
 "nbformat_minor": 5
}
