{
 "cells": [
  {
   "cell_type": "code",
   "execution_count": 1,
   "id": "90d9ccef",
   "metadata": {},
   "outputs": [
    {
     "name": "stdout",
     "output_type": "stream",
     "text": [
      "0.625\n"
     ]
    }
   ],
   "source": [
    "print(5/8) #Division"
   ]
  },
  {
   "cell_type": "code",
   "execution_count": 2,
   "id": "f1563e5f",
   "metadata": {},
   "outputs": [
    {
     "name": "stdout",
     "output_type": "stream",
     "text": [
      "15\n",
      "5.0\n",
      "4\n",
      "16\n"
     ]
    }
   ],
   "source": [
    "#Multiplication,Division,Remainder,Expnential\n",
    "print(3*5)\n",
    "print(10/2)\n",
    "print(18%7)\n",
    "print(4**2)\n"
   ]
  },
  {
   "cell_type": "code",
   "execution_count": 2,
   "id": "348e07e6",
   "metadata": {},
   "outputs": [
    {
     "name": "stdout",
     "output_type": "stream",
     "text": [
      "15\n"
     ]
    }
   ],
   "source": [
    "#Addition\n",
    "print(7+8)"
   ]
  },
  {
   "cell_type": "code",
   "execution_count": 1,
   "id": "9c93513e",
   "metadata": {},
   "outputs": [
    {
     "name": "stdout",
     "output_type": "stream",
     "text": [
      "10\n",
      "0\n"
     ]
    }
   ],
   "source": [
    "#Addition and Subtraction\n",
    "print(5+5)\n",
    "print(5-5)\n"
   ]
  },
  {
   "cell_type": "code",
   "execution_count": 11,
   "id": "c0747caa",
   "metadata": {},
   "outputs": [
    {
     "name": "stdout",
     "output_type": "stream",
     "text": [
      "1750.0000000000002\n",
      "6750.0\n"
     ]
    }
   ],
   "source": [
    "#4a_Interest\n",
    "P=5000\n",
    "r=0.07\n",
    "t=5\n",
    "I=P*r*t\n",
    "print(I)\n",
    "TV=I+P\n",
    "print(TV)\n"
   ]
  },
  {
   "cell_type": "markdown",
   "id": "87bf07de",
   "metadata": {},
   "source": []
  },
  {
   "cell_type": "code",
   "execution_count": 10,
   "id": "fba5cff9",
   "metadata": {},
   "outputs": [
    {
     "name": "stdout",
     "output_type": "stream",
     "text": [
      "7.0\n"
     ]
    }
   ],
   "source": [
    "#4b_Finding time\n",
    "I=4872\n",
    "p=8000\n",
    "r=0.087\n",
    "t=I/(p*r)\n",
    "print(t)"
   ]
  },
  {
   "cell_type": "code",
   "execution_count": 13,
   "id": "6159814a",
   "metadata": {},
   "outputs": [
    {
     "name": "stdout",
     "output_type": "stream",
     "text": [
      "6.4\n"
     ]
    }
   ],
   "source": [
    "#4c_Rate\n",
    "I=768\n",
    "p=3000\n",
    "t=4\n",
    "r=I/(p*t)*100\n",
    "print(r)\n"
   ]
  },
  {
   "cell_type": "code",
   "execution_count": 17,
   "id": "fca5b3bc",
   "metadata": {},
   "outputs": [
    {
     "name": "stdout",
     "output_type": "stream",
     "text": [
      "194.87171000000012\n"
     ]
    }
   ],
   "source": [
    "#5_Amount after 7 years\n",
    "p=100\n",
    "t=7\n",
    "r=1.1\n",
    "A=(p*r**t)\n",
    "print(A)"
   ]
  },
  {
   "cell_type": "code",
   "execution_count": 22,
   "id": "addee2ea",
   "metadata": {
    "scrolled": true
   },
   "outputs": [
    {
     "name": "stdout",
     "output_type": "stream",
     "text": [
      "100\n",
      "194.87171000000012\n",
      "<class 'int'>\n",
      "<class 'float'>\n"
     ]
    }
   ],
   "source": [
    "#Exercise_2\n",
    "#Creating a variable savings\n",
    "savings=100\n",
    "print(savings)\n",
    "#creating a variable growth_multiplier\n",
    "growth_multiplier=1.1\n",
    "#time_period\n",
    "time=7\n",
    "#creating result\n",
    "result=(savings*growth_multiplier**time)\n",
    "#4th question\n",
    "print(result)\n",
    "print(type(savings))\n",
    "print(type(growth_multiplier))"
   ]
  },
  {
   "cell_type": "code",
   "execution_count": 23,
   "id": "55a86a16",
   "metadata": {},
   "outputs": [
    {
     "name": "stdout",
     "output_type": "stream",
     "text": [
      "<class 'str'>\n",
      "<class 'bool'>\n"
     ]
    }
   ],
   "source": [
    "#3question\n",
    "#Create a variable desc\n",
    "desc=('Compound Interest')\n",
    "#Create a variable profitable\n",
    "profitable=True\n",
    "#4th question\n",
    "print(type(desc))\n",
    "print(type(profitable))\n"
   ]
  },
  {
   "cell_type": "code",
   "execution_count": 21,
   "id": "fa1ed4ac",
   "metadata": {},
   "outputs": [
    {
     "name": "stdout",
     "output_type": "stream",
     "text": [
      "<class 'float'>\n",
      "<class 'str'>\n",
      "<class 'bool'>\n"
     ]
    }
   ],
   "source": [
    "#Assigning values\n",
    "A=10.7\n",
    "B=\"This is python course\"\n",
    "C=False\n",
    "#Checking type\n",
    "print(type(A))\n",
    "print(type(B))\n",
    "print(type(C))"
   ]
  },
  {
   "cell_type": "code",
   "execution_count": 26,
   "id": "72b4e469",
   "metadata": {},
   "outputs": [
    {
     "name": "stdout",
     "output_type": "stream",
     "text": [
      "110.00000000000001\n",
      "<class 'float'>\n",
      "compound interestcompound interest\n"
     ]
    }
   ],
   "source": [
    "#question5\n",
    "#storing values\n",
    "savings=100\n",
    "growth_multiplier=1.1\n",
    "desc=\"compound interest\"\n",
    "year1=savings*growth_multiplier\n",
    "print(year1)\n",
    "#year1 type\n",
    "print(type(year1))\n",
    "#assigning sum of desc and desc to a new variable\n",
    "doubledesc=desc+desc\n",
    "print(doubledesc)"
   ]
  },
  {
   "cell_type": "code",
   "execution_count": 32,
   "id": "a45d2985",
   "metadata": {},
   "outputs": [
    {
     "name": "stdout",
     "output_type": "stream",
     "text": [
      "I started with $100and now have $194.87171000000012.Awesome!\n"
     ]
    }
   ],
   "source": [
    "#6\n",
    "#Definition of savings and result\n",
    "savings=100\n",
    "result=100*1.10**7\n",
    "#fix the printout using str()\n",
    "savings1=str(savings)\n",
    "result1=str(result)\n",
    "print(\"I started with $\" +savings1 + \"and now have $\" + result1 + \".Awesome!\")"
   ]
  },
  {
   "cell_type": "code",
   "execution_count": 34,
   "id": "c0cd4ebf",
   "metadata": {},
   "outputs": [
    {
     "name": "stdout",
     "output_type": "stream",
     "text": [
      "<class 'float'>\n",
      "6.2831852\n"
     ]
    }
   ],
   "source": [
    "#definition of pi_string\n",
    "pi_string=\"3.1415926\"\n",
    "#convert pi_string to pi_float\n",
    "pi_float=float(pi_string)\n",
    "print(type(pi_float))\n",
    "#Multiply by 2 to save the value in double_pi\n",
    "double_pi=2*pi_float\n",
    "print(double_pi)\n"
   ]
  },
  {
   "cell_type": "code",
   "execution_count": 38,
   "id": "13829694",
   "metadata": {},
   "outputs": [
    {
     "ename": "TypeError",
     "evalue": "can only concatenate str (not \"int\") to str",
     "output_type": "error",
     "traceback": [
      "\u001b[0;31m---------------------------------------------------------------------------\u001b[0m",
      "\u001b[0;31mTypeError\u001b[0m                                 Traceback (most recent call last)",
      "\u001b[0;32m<ipython-input-38-4a6e3720fbd3>\u001b[0m in \u001b[0;36m<module>\u001b[0;34m\u001b[0m\n\u001b[1;32m      1\u001b[0m \u001b[0;34m\"I can add integers,like\"\u001b[0m \u001b[0;34m+\u001b[0m\u001b[0mstr\u001b[0m\u001b[0;34m(\u001b[0m\u001b[0;36m5\u001b[0m\u001b[0;34m)\u001b[0m \u001b[0;34m+\u001b[0m \u001b[0;34m\" to strings.\"\u001b[0m\u001b[0;34m\u001b[0m\u001b[0;34m\u001b[0m\u001b[0m\n\u001b[1;32m      2\u001b[0m \u001b[0;34m\"I said\"\u001b[0m \u001b[0;34m+\u001b[0m \u001b[0;34m(\u001b[0m\u001b[0;34m\"Hey\"\u001b[0m \u001b[0;34m*\u001b[0m \u001b[0;36m2\u001b[0m\u001b[0;34m)\u001b[0m \u001b[0;34m+\u001b[0m \u001b[0;34m\"Hey!\"\u001b[0m\u001b[0;34m\u001b[0m\u001b[0;34m\u001b[0m\u001b[0m\n\u001b[0;32m----> 3\u001b[0;31m \u001b[0;34m\"The correct answer to this multiple choice exercise is answer number\"\u001b[0m \u001b[0;34m+\u001b[0m \u001b[0;36m2\u001b[0m\u001b[0;34m\u001b[0m\u001b[0;34m\u001b[0m\u001b[0m\n\u001b[0m",
      "\u001b[0;31mTypeError\u001b[0m: can only concatenate str (not \"int\") to str"
     ]
    }
   ],
   "source": [
    "\"I can add integers,like\" +str(5) + \" to strings.\"\n",
    "\"I said\" + (\"Hey\" * 2) + \"Hey!\"\n",
    "\"The correct answer to this multiple choice exercise is answer number\" + 2\n"
   ]
  },
  {
   "cell_type": "code",
   "execution_count": null,
   "id": "d2ca68ff",
   "metadata": {},
   "outputs": [],
   "source": []
  }
 ],
 "metadata": {
  "kernelspec": {
   "display_name": "Python 3",
   "language": "python",
   "name": "python3"
  },
  "language_info": {
   "codemirror_mode": {
    "name": "ipython",
    "version": 3
   },
   "file_extension": ".py",
   "mimetype": "text/x-python",
   "name": "python",
   "nbconvert_exporter": "python",
   "pygments_lexer": "ipython3",
   "version": "3.8.8"
  }
 },
 "nbformat": 4,
 "nbformat_minor": 5
}
